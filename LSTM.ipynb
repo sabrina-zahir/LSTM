{
  "nbformat": 4,
  "nbformat_minor": 0,
  "metadata": {
    "colab": {
      "name": "LSTM.ipynb",
      "provenance": [],
      "collapsed_sections": []
    },
    "kernelspec": {
      "name": "python3",
      "display_name": "Python 3"
    },
    "language_info": {
      "name": "python"
    }
  },
  "cells": [
    {
      "cell_type": "code",
      "metadata": {
        "id": "lwJikrY2twv3"
      },
      "source": [
        "import numpy as np\n",
        "import pandas as pd\n",
        "import seaborn as sns\n",
        "import tensorflow as tf\n",
        "import matplotlib.pyplot as plt\n",
        "\n",
        "from keras.preprocessing.text import Tokenizer\n",
        "from keras.preprocessing.sequence import pad_sequences\n",
        "from keras.models import Sequential\n",
        "from keras import layers\n",
        "from keras import backend as K\n",
        "from keras.utils.vis_utils import plot_model\n",
        "\n",
        "from sklearn.metrics import accuracy_score\n",
        "from sklearn.metrics import precision_score\n",
        "from sklearn.metrics import recall_score\n",
        "from sklearn.metrics import f1_score\n",
        "from sklearn.metrics import confusion_matrix"
      ],
      "execution_count": null,
      "outputs": []
    },
    {
      "cell_type": "code",
      "metadata": {
        "colab": {
          "base_uri": "https://localhost:8080/"
        },
        "id": "jqb3oI4xt9et",
        "outputId": "8aa92d5b-ef52-4845-dc51-c3a35433468d"
      },
      "source": [
        "from google.colab import drive\n",
        "drive.mount(\"/content/gdrive\")"
      ],
      "execution_count": null,
      "outputs": [
        {
          "output_type": "stream",
          "name": "stdout",
          "text": [
            "Mounted at /content/gdrive\n"
          ]
        }
      ]
    },
    {
      "cell_type": "code",
      "metadata": {
        "colab": {
          "base_uri": "https://localhost:8080/",
          "height": 203
        },
        "id": "SQHp3Ivywdmf",
        "outputId": "bd393ae8-39bf-470e-d6bc-cb8c243fa3e3"
      },
      "source": [
        "df = pd.read_csv(\"/content/gdrive/MyDrive/DATASETS/Dataset_2.csv\", encoding=('ISO-8859-1'),low_memory=False)\n",
        "df.head()"
      ],
      "execution_count": null,
      "outputs": [
        {
          "output_type": "execute_result",
          "data": {
            "text/html": [
              "<div>\n",
              "<style scoped>\n",
              "    .dataframe tbody tr th:only-of-type {\n",
              "        vertical-align: middle;\n",
              "    }\n",
              "\n",
              "    .dataframe tbody tr th {\n",
              "        vertical-align: top;\n",
              "    }\n",
              "\n",
              "    .dataframe thead th {\n",
              "        text-align: right;\n",
              "    }\n",
              "</style>\n",
              "<table border=\"1\" class=\"dataframe\">\n",
              "  <thead>\n",
              "    <tr style=\"text-align: right;\">\n",
              "      <th></th>\n",
              "      <th>text</th>\n",
              "      <th>polarity</th>\n",
              "    </tr>\n",
              "  </thead>\n",
              "  <tbody>\n",
              "    <tr>\n",
              "      <th>0</th>\n",
              "      <td>just had a real good moment. i missssssssss hi...</td>\n",
              "      <td>0</td>\n",
              "    </tr>\n",
              "    <tr>\n",
              "      <th>1</th>\n",
              "      <td>is reading manga  http://plurk.com/p/mzp1e</td>\n",
              "      <td>0</td>\n",
              "    </tr>\n",
              "    <tr>\n",
              "      <th>2</th>\n",
              "      <td>@comeagainjen http://twitpic.com/2y2lx - http:...</td>\n",
              "      <td>0</td>\n",
              "    </tr>\n",
              "    <tr>\n",
              "      <th>3</th>\n",
              "      <td>@lapcat Need to send 'em to my accountant tomo...</td>\n",
              "      <td>0</td>\n",
              "    </tr>\n",
              "    <tr>\n",
              "      <th>4</th>\n",
              "      <td>ADD ME ON MYSPACE!!!  myspace.com/LookThunder</td>\n",
              "      <td>0</td>\n",
              "    </tr>\n",
              "  </tbody>\n",
              "</table>\n",
              "</div>"
            ],
            "text/plain": [
              "                                                text  polarity\n",
              "0  just had a real good moment. i missssssssss hi...         0\n",
              "1         is reading manga  http://plurk.com/p/mzp1e         0\n",
              "2  @comeagainjen http://twitpic.com/2y2lx - http:...         0\n",
              "3  @lapcat Need to send 'em to my accountant tomo...         0\n",
              "4      ADD ME ON MYSPACE!!!  myspace.com/LookThunder         0"
            ]
          },
          "metadata": {},
          "execution_count": 3
        }
      ]
    },
    {
      "cell_type": "code",
      "metadata": {
        "colab": {
          "base_uri": "https://localhost:8080/",
          "height": 628
        },
        "id": "8tfuMJVgwj3h",
        "outputId": "f769c033-88ad-4689-9af4-2fd1fe45e0dc"
      },
      "source": [
        "df = df.sample(frac = 1., random_state = 14).reset_index(drop = True)\n",
        "\n",
        "print(df['text'].value_counts(0))\n",
        "df"
      ],
      "execution_count": null,
      "outputs": [
        {
          "output_type": "stream",
          "name": "stdout",
          "text": [
            "Mom's depression tied to kids' emotional, intellectual development  https://ift.tt/2HtVZCEÃÂ                                                    11\n",
            "25-04-18                                                                                                                                          4\n",
            "More than 1 in 20 US children and teens have anxiety or depression  https://www.sciencedaily.com/releases/2018/04/180424184119.htmÃÂ Ã¢ÂÂ¦      4\n",
            "suffering from chronic depression https://vine.co/v/iu3l2lPBhiKÃÂ                                                                                3\n",
            "[Zicutake] Depression can be prevented by exercise  https://goo.gl/fb/Mu7k6tÃÂ                                                                   3\n",
            "                                                                                                                                                 ..\n",
            "@FRin323 none of that!! I can't wait!!!  so when the big day???                                                                                   1\n",
            "hi @LoriBlue4508  ! I would suggest music of my electro project *** http://bit.ly/12KoF0 *** free download &amp; have fun  cheers                 1\n",
            "loves that it is light out at 5 am.  last bkfst before summer with science crew.  then off for more Nemo.  I'm gonna sing more today.             1\n",
            "@seemsArtless be judicious in replies; pay attention to how others use soc media. Be genuine /&amp;/ professional, the rest works itself out      1\n",
            "about to go to sleep.                                                                                                                             1\n",
            "Name: text, Length: 10282, dtype: int64\n"
          ]
        },
        {
          "output_type": "execute_result",
          "data": {
            "text/html": [
              "<div>\n",
              "<style scoped>\n",
              "    .dataframe tbody tr th:only-of-type {\n",
              "        vertical-align: middle;\n",
              "    }\n",
              "\n",
              "    .dataframe tbody tr th {\n",
              "        vertical-align: top;\n",
              "    }\n",
              "\n",
              "    .dataframe thead th {\n",
              "        text-align: right;\n",
              "    }\n",
              "</style>\n",
              "<table border=\"1\" class=\"dataframe\">\n",
              "  <thead>\n",
              "    <tr style=\"text-align: right;\">\n",
              "      <th></th>\n",
              "      <th>text</th>\n",
              "      <th>polarity</th>\n",
              "    </tr>\n",
              "  </thead>\n",
              "  <tbody>\n",
              "    <tr>\n",
              "      <th>0</th>\n",
              "      <td>@1WineDude That's a really cool giveaway!</td>\n",
              "      <td>0</td>\n",
              "    </tr>\n",
              "    <tr>\n",
              "      <th>1</th>\n",
              "      <td>Need a good web series? Check out GIANTS on Yo...</td>\n",
              "      <td>1</td>\n",
              "    </tr>\n",
              "    <tr>\n",
              "      <th>2</th>\n",
              "      <td>Procastinated by doing up a new playlist for T...</td>\n",
              "      <td>0</td>\n",
              "    </tr>\n",
              "    <tr>\n",
              "      <th>3</th>\n",
              "      <td>@ZeenaBoBeena eeeek!!!! Good luck, Zeena!!! Yo...</td>\n",
              "      <td>0</td>\n",
              "    </tr>\n",
              "    <tr>\n",
              "      <th>4</th>\n",
              "      <td>@ChynaDoll74 Good morning to you too</td>\n",
              "      <td>0</td>\n",
              "    </tr>\n",
              "    <tr>\n",
              "      <th>...</th>\n",
              "      <td>...</td>\n",
              "      <td>...</td>\n",
              "    </tr>\n",
              "    <tr>\n",
              "      <th>10309</th>\n",
              "      <td>Summer session starts today  Why am I smiling.</td>\n",
              "      <td>0</td>\n",
              "    </tr>\n",
              "    <tr>\n",
              "      <th>10310</th>\n",
              "      <td>@Desireeeeee really me to.!</td>\n",
              "      <td>0</td>\n",
              "    </tr>\n",
              "    <tr>\n",
              "      <th>10311</th>\n",
              "      <td>@Jason_Pollock I think they heard you.</td>\n",
              "      <td>0</td>\n",
              "    </tr>\n",
              "    <tr>\n",
              "      <th>10312</th>\n",
              "      <td>@OliviaMaynard13 You're most welcome. I don't ...</td>\n",
              "      <td>1</td>\n",
              "    </tr>\n",
              "    <tr>\n",
              "      <th>10313</th>\n",
              "      <td>Lakers is the best team of the west conference</td>\n",
              "      <td>0</td>\n",
              "    </tr>\n",
              "  </tbody>\n",
              "</table>\n",
              "<p>10314 rows × 2 columns</p>\n",
              "</div>"
            ],
            "text/plain": [
              "                                                    text  polarity\n",
              "0             @1WineDude That's a really cool giveaway!          0\n",
              "1      Need a good web series? Check out GIANTS on Yo...         1\n",
              "2      Procastinated by doing up a new playlist for T...         0\n",
              "3      @ZeenaBoBeena eeeek!!!! Good luck, Zeena!!! Yo...         0\n",
              "4                  @ChynaDoll74 Good morning to you too          0\n",
              "...                                                  ...       ...\n",
              "10309     Summer session starts today  Why am I smiling.         0\n",
              "10310                       @Desireeeeee really me to.!          0\n",
              "10311            @Jason_Pollock I think they heard you.          0\n",
              "10312  @OliviaMaynard13 You're most welcome. I don't ...         1\n",
              "10313    Lakers is the best team of the west conference          0\n",
              "\n",
              "[10314 rows x 2 columns]"
            ]
          },
          "metadata": {},
          "execution_count": 4
        }
      ]
    },
    {
      "cell_type": "code",
      "metadata": {
        "id": "TFVImP2xum62"
      },
      "source": [
        "EPOCH = 10\n",
        "\n",
        "split_val = int(0.2 * df.shape[0])\n",
        "\n",
        "dataTest = df.iloc[-split_val :]\n",
        "dataVal = df.iloc[- 2 * split_val : -split_val]\n",
        "dataTrain = df.iloc[: - 2 * split_val]"
      ],
      "execution_count": null,
      "outputs": []
    },
    {
      "cell_type": "code",
      "metadata": {
        "colab": {
          "base_uri": "https://localhost:8080/",
          "height": 628
        },
        "id": "015R5XO8xIdY",
        "outputId": "9e1cc313-7604-4558-8e74-b54b48971217"
      },
      "source": [
        "print(dataTrain['text'].value_counts())\n",
        "\n",
        "dataTrain"
      ],
      "execution_count": null,
      "outputs": [
        {
          "output_type": "stream",
          "name": "stdout",
          "text": [
            "Mom's depression tied to kids' emotional, intellectual development  https://ift.tt/2HtVZCEÃÂ                                                                              9\n",
            "How exercising can slash the risk of depression  https://nyp.st/2vGw2KqÃÂ  via @nypost                                                                                    2\n",
            "Sleeping next to someone you love not only reduces depression, but it also helps you to live longer and makes you fall asleep faster.                                      2\n",
            "#NAME?                                                                                                                                                                     2\n",
            "Don't settle with #depression, #anxiety or defeat. #Jesus wants you to overcome. #faith #Prayer #bible #kalamazoo http://www.vwcenter.org/fervent-prayer.htmlÃÂ Ã¢ÂÂ¦    2\n",
            "                                                                                                                                                                          ..\n",
            "i'm submitting my site into directories and also listening to Natasha Bedingfield Un written                                                                               1\n",
            "@kerryle: tho?i mÃ¯Â¿Â½i cÃ¯Â¿Â½i con kh?, tÃ¯Â¿Â½y ch? ch? pa                                                                                                             1\n",
            "One can not B loved if one does not love. Just as one can not be respected if one does not first respect. How to respect? GIVE it  so ezy                                  1\n",
            "@Hedgewytch Bugger being sneaky. Flash on and camera in continuous, get as many shots as possible. Pap the hell of of him                                                  1\n",
            "I think im gonna be like Danny Jones right now...............tweet tweet. FOLLOW HIM!!!!!!!!                                                                               1\n",
            "Name: text, Length: 6174, dtype: int64\n"
          ]
        },
        {
          "output_type": "execute_result",
          "data": {
            "text/html": [
              "<div>\n",
              "<style scoped>\n",
              "    .dataframe tbody tr th:only-of-type {\n",
              "        vertical-align: middle;\n",
              "    }\n",
              "\n",
              "    .dataframe tbody tr th {\n",
              "        vertical-align: top;\n",
              "    }\n",
              "\n",
              "    .dataframe thead th {\n",
              "        text-align: right;\n",
              "    }\n",
              "</style>\n",
              "<table border=\"1\" class=\"dataframe\">\n",
              "  <thead>\n",
              "    <tr style=\"text-align: right;\">\n",
              "      <th></th>\n",
              "      <th>text</th>\n",
              "      <th>polarity</th>\n",
              "    </tr>\n",
              "  </thead>\n",
              "  <tbody>\n",
              "    <tr>\n",
              "      <th>0</th>\n",
              "      <td>@1WineDude That's a really cool giveaway!</td>\n",
              "      <td>0</td>\n",
              "    </tr>\n",
              "    <tr>\n",
              "      <th>1</th>\n",
              "      <td>Need a good web series? Check out GIANTS on Yo...</td>\n",
              "      <td>1</td>\n",
              "    </tr>\n",
              "    <tr>\n",
              "      <th>2</th>\n",
              "      <td>Procastinated by doing up a new playlist for T...</td>\n",
              "      <td>0</td>\n",
              "    </tr>\n",
              "    <tr>\n",
              "      <th>3</th>\n",
              "      <td>@ZeenaBoBeena eeeek!!!! Good luck, Zeena!!! Yo...</td>\n",
              "      <td>0</td>\n",
              "    </tr>\n",
              "    <tr>\n",
              "      <th>4</th>\n",
              "      <td>@ChynaDoll74 Good morning to you too</td>\n",
              "      <td>0</td>\n",
              "    </tr>\n",
              "    <tr>\n",
              "      <th>...</th>\n",
              "      <td>...</td>\n",
              "      <td>...</td>\n",
              "    </tr>\n",
              "    <tr>\n",
              "      <th>6185</th>\n",
              "      <td>free draw, lit easily, puffing away</td>\n",
              "      <td>0</td>\n",
              "    </tr>\n",
              "    <tr>\n",
              "      <th>6186</th>\n",
              "      <td>Depression is coming i feel it my veins just w...</td>\n",
              "      <td>1</td>\n",
              "    </tr>\n",
              "    <tr>\n",
              "      <th>6187</th>\n",
              "      <td>at gator joe's with heather and then movies to...</td>\n",
              "      <td>0</td>\n",
              "    </tr>\n",
              "    <tr>\n",
              "      <th>6188</th>\n",
              "      <td>Ughhh so over nightmares - So Instead of sleep...</td>\n",
              "      <td>0</td>\n",
              "    </tr>\n",
              "    <tr>\n",
              "      <th>6189</th>\n",
              "      <td>@pinkelephantpun Books on tape or cd makes the...</td>\n",
              "      <td>0</td>\n",
              "    </tr>\n",
              "  </tbody>\n",
              "</table>\n",
              "<p>6190 rows × 2 columns</p>\n",
              "</div>"
            ],
            "text/plain": [
              "                                                   text  polarity\n",
              "0            @1WineDude That's a really cool giveaway!          0\n",
              "1     Need a good web series? Check out GIANTS on Yo...         1\n",
              "2     Procastinated by doing up a new playlist for T...         0\n",
              "3     @ZeenaBoBeena eeeek!!!! Good luck, Zeena!!! Yo...         0\n",
              "4                 @ChynaDoll74 Good morning to you too          0\n",
              "...                                                 ...       ...\n",
              "6185               free draw, lit easily, puffing away          0\n",
              "6186  Depression is coming i feel it my veins just w...         1\n",
              "6187  at gator joe's with heather and then movies to...         0\n",
              "6188  Ughhh so over nightmares - So Instead of sleep...         0\n",
              "6189  @pinkelephantpun Books on tape or cd makes the...         0\n",
              "\n",
              "[6190 rows x 2 columns]"
            ]
          },
          "metadata": {},
          "execution_count": 6
        }
      ]
    },
    {
      "cell_type": "code",
      "metadata": {
        "colab": {
          "base_uri": "https://localhost:8080/",
          "height": 628
        },
        "id": "2sBjL-zcxNO7",
        "outputId": "7e1c97d0-b6c6-4a9d-e163-f35eeaec0960"
      },
      "source": [
        "print(dataVal['text'].value_counts())\n",
        "\n",
        "dataVal"
      ],
      "execution_count": null,
      "outputs": [
        {
          "output_type": "stream",
          "name": "stdout",
          "text": [
            "The Stock Market Is Having its Worst Second Quarter Since the Great Depression  http://fortune.com/2018/04/02/stock-market-nyse-worst-second-quarter-depression/ÃÂ Ã¢ÂÂ¦    2\n",
            "good luck nlang sa iv-e... hahahaha.. bago toh.. ngaion lang aq lilipat ng classroom... MEANT to be talaga kme... hahahahah..                                                 1\n",
            "I can't go to sleep... so so SO hyper! lol                                                                                                                                    1\n",
            "@gaycyclops because I was thinking of joining you for a marathon sometime this summer... School's out in 13 days!!!                                                           1\n",
            "@BriggySmalls happy to be the 1st to *high five* you dude!                                                                                                                    1\n",
            "                                                                                                                                                                             ..\n",
            "tweeting from cracker barrel                                                                                                                                                  1\n",
            "@dstormbaby92 i love you                                                                                                                                                      1\n",
            "@fredwilson My local pub is called The Flying Pig                                                                                                                             1\n",
            "first one awake...waiting to lay out on the beach                                                                                                                             1\n",
            "Back to work for me... Twitt ya'll laterz                                                                                                                                     1\n",
            "Name: text, Length: 2061, dtype: int64\n"
          ]
        },
        {
          "output_type": "execute_result",
          "data": {
            "text/html": [
              "<div>\n",
              "<style scoped>\n",
              "    .dataframe tbody tr th:only-of-type {\n",
              "        vertical-align: middle;\n",
              "    }\n",
              "\n",
              "    .dataframe tbody tr th {\n",
              "        vertical-align: top;\n",
              "    }\n",
              "\n",
              "    .dataframe thead th {\n",
              "        text-align: right;\n",
              "    }\n",
              "</style>\n",
              "<table border=\"1\" class=\"dataframe\">\n",
              "  <thead>\n",
              "    <tr style=\"text-align: right;\">\n",
              "      <th></th>\n",
              "      <th>text</th>\n",
              "      <th>polarity</th>\n",
              "    </tr>\n",
              "  </thead>\n",
              "  <tbody>\n",
              "    <tr>\n",
              "      <th>6190</th>\n",
              "      <td>@pilucha ok, no more drinking away of the sorr...</td>\n",
              "      <td>0</td>\n",
              "    </tr>\n",
              "    <tr>\n",
              "      <th>6191</th>\n",
              "      <td>Earl's wearing a tie</td>\n",
              "      <td>0</td>\n",
              "    </tr>\n",
              "    <tr>\n",
              "      <th>6192</th>\n",
              "      <td>Loving @gilesbennet teaching style - like Dr S...</td>\n",
              "      <td>0</td>\n",
              "    </tr>\n",
              "    <tr>\n",
              "      <th>6193</th>\n",
              "      <td>hangin with ledd nd court.</td>\n",
              "      <td>0</td>\n",
              "    </tr>\n",
              "    <tr>\n",
              "      <th>6194</th>\n",
              "      <td>under 24 hours left to vote for @protagonize a...</td>\n",
              "      <td>0</td>\n",
              "    </tr>\n",
              "    <tr>\n",
              "      <th>...</th>\n",
              "      <td>...</td>\n",
              "      <td>...</td>\n",
              "    </tr>\n",
              "    <tr>\n",
              "      <th>8247</th>\n",
              "      <td>Look at the cute hat I got today...I look scar...</td>\n",
              "      <td>0</td>\n",
              "    </tr>\n",
              "    <tr>\n",
              "      <th>8248</th>\n",
              "      <td>@firesty hey ya )) like ur new pic  i have one...</td>\n",
              "      <td>0</td>\n",
              "    </tr>\n",
              "    <tr>\n",
              "      <th>8249</th>\n",
              "      <td>@Styla73 Thank you.</td>\n",
              "      <td>0</td>\n",
              "    </tr>\n",
              "    <tr>\n",
              "      <th>8250</th>\n",
              "      <td>@stephjonesmusic http://twitpic.com/6bclz - ah...</td>\n",
              "      <td>0</td>\n",
              "    </tr>\n",
              "    <tr>\n",
              "      <th>8251</th>\n",
              "      <td>RT @FamAcupuncture: Treating Depression With F...</td>\n",
              "      <td>1</td>\n",
              "    </tr>\n",
              "  </tbody>\n",
              "</table>\n",
              "<p>2062 rows × 2 columns</p>\n",
              "</div>"
            ],
            "text/plain": [
              "                                                   text  polarity\n",
              "6190  @pilucha ok, no more drinking away of the sorr...         0\n",
              "6191                              Earl's wearing a tie          0\n",
              "6192  Loving @gilesbennet teaching style - like Dr S...         0\n",
              "6193                        hangin with ledd nd court.          0\n",
              "6194  under 24 hours left to vote for @protagonize a...         0\n",
              "...                                                 ...       ...\n",
              "8247  Look at the cute hat I got today...I look scar...         0\n",
              "8248  @firesty hey ya )) like ur new pic  i have one...         0\n",
              "8249                               @Styla73 Thank you.          0\n",
              "8250  @stephjonesmusic http://twitpic.com/6bclz - ah...         0\n",
              "8251  RT @FamAcupuncture: Treating Depression With F...         1\n",
              "\n",
              "[2062 rows x 2 columns]"
            ]
          },
          "metadata": {},
          "execution_count": 7
        }
      ]
    },
    {
      "cell_type": "code",
      "metadata": {
        "colab": {
          "base_uri": "https://localhost:8080/",
          "height": 648
        },
        "id": "Hnk48XS4xYc9",
        "outputId": "fd2b53fc-142c-466b-a23d-c109ab171b4a"
      },
      "source": [
        "\n",
        "print(dataTest['text'].value_counts())\n",
        "\n",
        "dataTest"
      ],
      "execution_count": null,
      "outputs": [
        {
          "output_type": "stream",
          "name": "stdout",
          "text": [
            "More than 1 in 20 US children and teens have anxiety or depression  https://www.sciencedaily.com/releases/2018/04/180424184119.htmÃÂ Ã¢ÂÂ¦                                                                                                                                        2\n",
            "Lonely millennials twice as likely to experience depression or anxiety, finds study  http://www.independent.co.uk/life-style/millennials-lonely-depression-anxiety-mental-health-odds-doubling-unemployed-study-a8319686.htmlÃÂ Ã¢ÂÂ¦                                             2\n",
            "Mom's depression tied to kids' emotional, intellectual development  https://ift.tt/2HtVZCEÃÂ                                                                                                                                                                                       2\n",
            "@Rotae Sent you an LJ PM with some shinies                                                                                                                                                                                                                                          1\n",
            "Don't let your thoughts in quiet places determine your mood because you could be wrong. Depression only comes when your not active.Rejection only comes when your not on your shit. Stay consistently on your shit and don't come back to the internet to refresh or check shit.    1\n",
            "                                                                                                                                                                                                                                                                                   ..\n",
            "@ZaynnAbel_ Take several depression naps like me bc bitch ME TOO                                                                                                                                                                                                                    1\n",
            "gumawa ako ng tula, came up with the topics about love, government, family, education and depression. so random                                                                                                                                                                     1\n",
            "trinken bei maddin, party                                                                                                                                                                                                                                                           1\n",
            "@Adrienne_Bailon talk with your HIPS                                                                                                                                                                                                                                                1\n",
            "Just got done with eating A WHOLE CHICKKEEENNN!                                                                                                                                                                                                                                     1\n",
            "Name: text, Length: 2059, dtype: int64\n"
          ]
        },
        {
          "output_type": "execute_result",
          "data": {
            "text/html": [
              "<div>\n",
              "<style scoped>\n",
              "    .dataframe tbody tr th:only-of-type {\n",
              "        vertical-align: middle;\n",
              "    }\n",
              "\n",
              "    .dataframe tbody tr th {\n",
              "        vertical-align: top;\n",
              "    }\n",
              "\n",
              "    .dataframe thead th {\n",
              "        text-align: right;\n",
              "    }\n",
              "</style>\n",
              "<table border=\"1\" class=\"dataframe\">\n",
              "  <thead>\n",
              "    <tr style=\"text-align: right;\">\n",
              "      <th></th>\n",
              "      <th>text</th>\n",
              "      <th>polarity</th>\n",
              "    </tr>\n",
              "  </thead>\n",
              "  <tbody>\n",
              "    <tr>\n",
              "      <th>8252</th>\n",
              "      <td>One of my mini poems. #helenswriting#mentalhea...</td>\n",
              "      <td>1</td>\n",
              "    </tr>\n",
              "    <tr>\n",
              "      <th>8253</th>\n",
              "      <td>@y2kprawn you went to college here? Didn't kno...</td>\n",
              "      <td>0</td>\n",
              "    </tr>\n",
              "    <tr>\n",
              "      <th>8254</th>\n",
              "      <td>The Young Life Podcast #1 - Depression 101:  h...</td>\n",
              "      <td>1</td>\n",
              "    </tr>\n",
              "    <tr>\n",
              "      <th>8255</th>\n",
              "      <td>'s hair is so soft today.</td>\n",
              "      <td>0</td>\n",
              "    </tr>\n",
              "    <tr>\n",
              "      <th>8256</th>\n",
              "      <td>At the point where I'm legitimately pissed whe...</td>\n",
              "      <td>1</td>\n",
              "    </tr>\n",
              "    <tr>\n",
              "      <th>...</th>\n",
              "      <td>...</td>\n",
              "      <td>...</td>\n",
              "    </tr>\n",
              "    <tr>\n",
              "      <th>10309</th>\n",
              "      <td>Summer session starts today  Why am I smiling.</td>\n",
              "      <td>0</td>\n",
              "    </tr>\n",
              "    <tr>\n",
              "      <th>10310</th>\n",
              "      <td>@Desireeeeee really me to.!</td>\n",
              "      <td>0</td>\n",
              "    </tr>\n",
              "    <tr>\n",
              "      <th>10311</th>\n",
              "      <td>@Jason_Pollock I think they heard you.</td>\n",
              "      <td>0</td>\n",
              "    </tr>\n",
              "    <tr>\n",
              "      <th>10312</th>\n",
              "      <td>@OliviaMaynard13 You're most welcome. I don't ...</td>\n",
              "      <td>1</td>\n",
              "    </tr>\n",
              "    <tr>\n",
              "      <th>10313</th>\n",
              "      <td>Lakers is the best team of the west conference</td>\n",
              "      <td>0</td>\n",
              "    </tr>\n",
              "  </tbody>\n",
              "</table>\n",
              "<p>2062 rows × 2 columns</p>\n",
              "</div>"
            ],
            "text/plain": [
              "                                                    text  polarity\n",
              "8252   One of my mini poems. #helenswriting#mentalhea...         1\n",
              "8253   @y2kprawn you went to college here? Didn't kno...         0\n",
              "8254   The Young Life Podcast #1 - Depression 101:  h...         1\n",
              "8255                          's hair is so soft today.          0\n",
              "8256   At the point where I'm legitimately pissed whe...         1\n",
              "...                                                  ...       ...\n",
              "10309     Summer session starts today  Why am I smiling.         0\n",
              "10310                       @Desireeeeee really me to.!          0\n",
              "10311            @Jason_Pollock I think they heard you.          0\n",
              "10312  @OliviaMaynard13 You're most welcome. I don't ...         1\n",
              "10313    Lakers is the best team of the west conference          0\n",
              "\n",
              "[2062 rows x 2 columns]"
            ]
          },
          "metadata": {},
          "execution_count": 8
        }
      ]
    },
    {
      "cell_type": "code",
      "metadata": {
        "id": "nLq4hP69xfzV"
      },
      "source": [
        "\n",
        "trainX = np.array(dataTrain.iloc[:, 0])\n",
        "trainY = np.array(dataTrain.iloc[:, 1])\n",
        "\n",
        "valX = np.array(dataVal.iloc[:, 0])\n",
        "valY = np.array(dataVal.iloc[:, 1])\n",
        "\n",
        "testX = np.array(dataTest.iloc[:, 0])\n",
        "testY = np.array(dataTest.iloc[:, 1])\n"
      ],
      "execution_count": null,
      "outputs": []
    },
    {
      "cell_type": "code",
      "metadata": {
        "id": "PzgugACtxtvq"
      },
      "source": [
        "top_k = 50000\n",
        "tokenizer = tf.keras.preprocessing.text.Tokenizer(num_words = top_k,\n",
        "                                                  oov_token = \"<unk>\",\n",
        "                                                  filters = '!\"#$%&()*+.,-/:;=?@[\\]^_`{|}~')\n",
        "tokenizer.fit_on_texts(trainX)\n",
        "\n",
        "tokenizer.word_index['<pad>'] = 0\n",
        "tokenizer.index_word[0] = '<pad>'\n",
        "\n",
        "train_seqs = tokenizer.texts_to_sequences(trainX)\n",
        "val_seqs = tokenizer.texts_to_sequences(valX)\n",
        "test_seqs = tokenizer.texts_to_sequences(testX)\n",
        "\n",
        "train_seqs = tf.keras.preprocessing.sequence.pad_sequences(train_seqs, padding = 'pre')\n",
        "val_seqs = tf.keras.preprocessing.sequence.pad_sequences(val_seqs, padding = 'pre')\n",
        "test_seqs = tf.keras.preprocessing.sequence.pad_sequences(test_seqs, padding = 'pre')"
      ],
      "execution_count": null,
      "outputs": []
    },
    {
      "cell_type": "code",
      "metadata": {
        "id": "6V0LuOuhdk65",
        "colab": {
          "base_uri": "https://localhost:8080/",
          "height": 1000
        },
        "outputId": "2ed62e8a-584f-4e64-db87-1c747b8daebc"
      },
      "source": [
        "model = Sequential()\n",
        "model.add(layers.Embedding(len(tokenizer.word_index), 128))\n",
        "model.add(layers.LSTM(256, return_sequences = True, dropout = 0.2))\n",
        "model.add(layers.LSTM(512, return_sequences = True, dropout = 0.2))\n",
        "model.add(layers.LSTM(64, return_sequences = True, dropout = 0.2))\n",
        "model.add(layers.LSTM(8, dropout = 0.2))\n",
        "model.add(layers.Dense(1, activation = 'sigmoid'))\n",
        "\n",
        "model.compile(loss = 'binary_crossentropy', optimizer = 'adam', metrics = ['accuracy'])\n",
        "\n",
        "model.summary()\n",
        "plot_model(model, to_file = 'model_plot.png', show_shapes = True, show_layer_names = True)\n",
        "\n"
      ],
      "execution_count": null,
      "outputs": [
        {
          "output_type": "stream",
          "name": "stdout",
          "text": [
            "Model: \"sequential\"\n",
            "_________________________________________________________________\n",
            "Layer (type)                 Output Shape              Param #   \n",
            "=================================================================\n",
            "embedding (Embedding)        (None, None, 128)         2072576   \n",
            "_________________________________________________________________\n",
            "lstm (LSTM)                  (None, None, 256)         394240    \n",
            "_________________________________________________________________\n",
            "lstm_1 (LSTM)                (None, None, 512)         1574912   \n",
            "_________________________________________________________________\n",
            "lstm_2 (LSTM)                (None, None, 64)          147712    \n",
            "_________________________________________________________________\n",
            "lstm_3 (LSTM)                (None, 8)                 2336      \n",
            "_________________________________________________________________\n",
            "dense (Dense)                (None, 1)                 9         \n",
            "=================================================================\n",
            "Total params: 4,191,785\n",
            "Trainable params: 4,191,785\n",
            "Non-trainable params: 0\n",
            "_________________________________________________________________\n"
          ]
        },
        {
          "output_type": "execute_result",
          "data": {
            "image/png": "[encoded data removed]",
            "text/plain": [
              "<IPython.core.display.Image object>"
            ]
          },
          "metadata": {},
          "execution_count": 11
        }
      ]
    },
    {
      "cell_type": "code",
      "metadata": {
        "colab": {
          "base_uri": "https://localhost:8080/",
          "height": 1000
        },
        "id": "0RxeczdqyCrP",
        "outputId": "9df00d83-f686-4866-b528-738c316fd59d"
      },
      "source": [
        "history = model.fit(train_seqs, trainY, epochs = EPOCH, validation_data = (val_seqs, valY), verbose = 1)\n",
        "\n",
        "def plot_graphs(history, string):\n",
        "  plt.plot(history.history[string])\n",
        "  plt.plot(history.history['val_'+string])\n",
        "  plt.xlabel(\"Epochs\")\n",
        "  plt.ylabel(string)\n",
        "  plt.legend([string, 'val_'+string])\n",
        "  plt.show()\n",
        "\n",
        "plot_graphs(history, 'accuracy')\n",
        "plot_graphs(history, 'loss')\n",
        "\n",
        "print('\\nEpoch No.  Train Accuracy  Train Loss     Val Accuracy    Val Loss')\n",
        "for i in range(EPOCH):\n",
        "  print('{:8d} {:10f} \\t {:10f} \\t {:10f} \\t {:10f}'.format(i + 1, history.history['accuracy'][i], history.history['loss'][i], history.history['val_accuracy'][i], history.history['val_loss'][i]))"
      ],
      "execution_count": null,
      "outputs": [
        {
          "output_type": "stream",
          "name": "stdout",
          "text": [
            "Epoch 1/10\n",
            "194/194 [==============================] - 430s 2s/step - loss: 0.2999 - accuracy: 0.8775 - val_loss: 0.0594 - val_accuracy: 0.9922\n",
            "Epoch 2/10\n",
            "194/194 [==============================] - 424s 2s/step - loss: 0.5002 - accuracy: 0.7767 - val_loss: 0.5516 - val_accuracy: 0.7789\n",
            "Epoch 3/10\n",
            "194/194 [==============================] - 415s 2s/step - loss: 0.5393 - accuracy: 0.7729 - val_loss: 0.5284 - val_accuracy: 0.7789\n",
            "Epoch 4/10\n",
            "194/194 [==============================] - 412s 2s/step - loss: 0.5362 - accuracy: 0.7729 - val_loss: 0.5286 - val_accuracy: 0.7789\n",
            "Epoch 5/10\n",
            "194/194 [==============================] - 417s 2s/step - loss: 0.5359 - accuracy: 0.7729 - val_loss: 0.5282 - val_accuracy: 0.7789\n",
            "Epoch 6/10\n",
            "194/194 [==============================] - 414s 2s/step - loss: 0.5016 - accuracy: 0.7835 - val_loss: 0.1093 - val_accuracy: 0.9927\n",
            "Epoch 7/10\n",
            "194/194 [==============================] - 415s 2s/step - loss: 0.0461 - accuracy: 0.9952 - val_loss: 0.0507 - val_accuracy: 0.9898\n",
            "Epoch 8/10\n",
            "194/194 [==============================] - 415s 2s/step - loss: 0.0243 - accuracy: 0.9958 - val_loss: 0.0473 - val_accuracy: 0.9908\n",
            "Epoch 9/10\n",
            "194/194 [==============================] - 413s 2s/step - loss: 0.0115 - accuracy: 0.9994 - val_loss: 0.0398 - val_accuracy: 0.9932\n",
            "Epoch 10/10\n",
            "194/194 [==============================] - 415s 2s/step - loss: 0.0087 - accuracy: 0.9995 - val_loss: 0.0450 - val_accuracy: 0.9918\n"
          ]
        },
        {
          "output_type": "display_data",
          "data": {
            "image/png": "[encoded data removed]",
            "text/plain": [
              "<Figure size 432x288 with 1 Axes>"
            ]
          },
          "metadata": {
            "needs_background": "light"
          }
        },
        {
          "output_type": "display_data",
          "data": {
            "image/png": "[encoded data removed]",
            "text/plain": [
              "<Figure size 432x288 with 1 Axes>"
            ]
          },
          "metadata": {
            "needs_background": "light"
          }
        },
        {
          "output_type": "stream",
          "name": "stdout",
          "text": [
            "\n",
            "Epoch No.  Train Accuracy  Train Loss     Val Accuracy    Val Loss\n",
            "       1   0.877544 \t   0.299948 \t   0.992241 \t   0.059377\n",
            "       2   0.776737 \t   0.500206 \t   0.778856 \t   0.551595\n",
            "       3   0.772859 \t   0.539348 \t   0.778856 \t   0.528441\n",
            "       4   0.772859 \t   0.536213 \t   0.778856 \t   0.528591\n",
            "       5   0.772859 \t   0.535935 \t   0.778856 \t   0.528155\n",
            "       6   0.783522 \t   0.501633 \t   0.992725 \t   0.109333\n",
            "       7   0.995153 \t   0.046096 \t   0.989816 \t   0.050707\n",
            "       8   0.995800 \t   0.024339 \t   0.990786 \t   0.047288\n",
            "       9   0.999354 \t   0.011504 \t   0.993210 \t   0.039814\n",
            "      10   0.999515 \t   0.008703 \t   0.991756 \t   0.044972\n"
          ]
        }
      ]
    },
    {
      "cell_type": "code",
      "metadata": {
        "colab": {
          "base_uri": "https://localhost:8080/",
          "height": 406
        },
        "id": "zvNm4mr9YlAU",
        "outputId": "c5cfb89e-ab5d-4938-d898-47cb3e0c1a4e"
      },
      "source": [
        "y_pred = model.predict(train_seqs)\n",
        "\n",
        "y_pred = np.where(y_pred > 0.5, 1, 0)\n",
        "y_pred = np.reshape(y_pred, (y_pred.shape[0]))\n",
        "\n",
        "loss, accuracy = model.evaluate(train_seqs, trainY, verbose = 1)\n",
        "print('Train Loss:', loss)\n",
        "print('Train Accuracy:', accuracy, '(Model Metric)')\n",
        "print('Train Accuracy:', accuracy_score(trainY, y_pred), '(sklearn Metric)')\n",
        "print('Train Precision:', precision_score(trainY, y_pred))\n",
        "print('Train Recall:', recall_score(trainY, y_pred))\n",
        "print('Train F1-score:', f1_score(trainY, y_pred))\n",
        "\n",
        "sns.heatmap(confusion_matrix(trainY, y_pred), annot = True, fmt = 'g')"
      ],
      "execution_count": null,
      "outputs": [
        {
          "output_type": "stream",
          "name": "stdout",
          "text": [
            "194/194 [==============================] - 72s 366ms/step - loss: 0.0078 - accuracy: 0.9995\n",
            "Train Loss: 0.0077921864576637745\n",
            "Train Accuracy: 0.9995153546333313 (Model Metric)\n",
            "Train Accuracy: 0.9995153473344104 (sklearn Metric)\n",
            "Train Precision: 1.0\n",
            "Train Recall: 0.9978662873399715\n",
            "Train F1-score: 0.9989320042719829\n"
          ]
        },
        {
          "output_type": "execute_result",
          "data": {
            "text/plain": [
              "<matplotlib.axes._subplots.AxesSubplot at 0x7fd03bdf4410>"
            ]
          },
          "metadata": {},
          "execution_count": 13
        },
        {
          "output_type": "display_data",
          "data": {
            "image/png": "[encoded data removed]",
            "text/plain": [
              "<Figure size 432x288 with 2 Axes>"
            ]
          },
          "metadata": {
            "needs_background": "light"
          }
        }
      ]
    },
    {
      "cell_type": "code",
      "metadata": {
        "colab": {
          "base_uri": "https://localhost:8080/",
          "height": 406
        },
        "id": "AVkTtDj7bsLI",
        "outputId": "00336a6d-ba93-4b5c-b56f-46849c2609bf"
      },
      "source": [
        "y_pred = model.predict(val_seqs)\n",
        "\n",
        "y_pred = np.where(y_pred > 0.5, 1, 0)\n",
        "y_pred = np.reshape(y_pred, (y_pred.shape[0]))\n",
        "\n",
        "loss, accuracy = model.evaluate(val_seqs, valY, verbose = 1)\n",
        "print('Validation Loss:', loss)\n",
        "print('Validation Accuracy:', accuracy, '(Model Metric)')\n",
        "print('Validation Accuracy:', accuracy_score(valY, y_pred), '(sklearn Metric)')\n",
        "print('Validation Precision:', precision_score(valY, y_pred))\n",
        "print('Validation Recall:', recall_score(valY, y_pred))\n",
        "print('Validation F1-score:', f1_score(valY, y_pred))\n",
        "\n",
        "sns.heatmap(confusion_matrix(valY, y_pred), annot = True, fmt = 'g')"
      ],
      "execution_count": null,
      "outputs": [
        {
          "output_type": "stream",
          "name": "stdout",
          "text": [
            "65/65 [==============================] - 20s 306ms/step - loss: 0.0450 - accuracy: 0.9918\n",
            "Validation Loss: 0.044972073286771774\n",
            "Validation Accuracy: 0.9917556047439575 (Model Metric)\n",
            "Validation Accuracy: 0.9917555771096024 (sklearn Metric)\n",
            "Validation Precision: 0.9803063457330415\n",
            "Validation Recall: 0.9824561403508771\n",
            "Validation F1-score: 0.9813800657174151\n"
          ]
        },
        {
          "output_type": "execute_result",
          "data": {
            "text/plain": [
              "<matplotlib.axes._subplots.AxesSubplot at 0x7fd038723150>"
            ]
          },
          "metadata": {},
          "execution_count": 14
        },
        {
          "output_type": "display_data",
          "data": {
            "image/png": "[encoded data removed]",
            "text/plain": [
              "<Figure size 432x288 with 2 Axes>"
            ]
          },
          "metadata": {
            "needs_background": "light"
          }
        }
      ]
    },
    {
      "cell_type": "code",
      "metadata": {
        "colab": {
          "base_uri": "https://localhost:8080/",
          "height": 409
        },
        "id": "U6k9IWifbwHY",
        "outputId": "e413320d-d108-4f8c-ceb5-8ceb2b083de9"
      },
      "source": [
        "y_pred = model.predict(test_seqs)\n",
        "\n",
        "y_pred = np.where(y_pred > 0.5, 1, 0)\n",
        "y_pred = np.reshape(y_pred, (y_pred.shape[0]))\n",
        "\n",
        "loss, accuracy = model.evaluate(test_seqs, testY, verbose = 1)\n",
        "print('Test Loss:', loss)\n",
        "print('Test Accuracy:', accuracy, '(Model Metric)')\n",
        "print('Test Accuracy:', accuracy_score(testY, y_pred), '(sklearn Metric)')\n",
        "print('Test Precision:', precision_score(testY, y_pred))\n",
        "print('Test Recall:', recall_score(testY, y_pred))\n",
        "print('Test F1-score:', f1_score(testY, y_pred))\n",
        "\n",
        "sns.heatmap(confusion_matrix(testY, y_pred), annot = True, fmt = 'g')"
      ],
      "execution_count": null,
      "outputs": [
        {
          "output_type": "stream",
          "name": "stdout",
          "text": [
            "65/65 [==============================] - 43s 615ms/step - loss: 0.0308 - accuracy: 0.9947\n",
            "Test Loss: 0.03078962117433548\n",
            "Test Accuracy: 0.9946653842926025 (Model Metric)\n",
            "Test Accuracy: 0.9946653734238603 (sklearn Metric)\n",
            "Test Precision: 1.0\n",
            "Test Recall: 0.9756637168141593\n",
            "Test F1-score: 0.9876819708846585\n"
          ]
        },
        {
          "output_type": "execute_result",
          "data": {
            "text/plain": [
              "<matplotlib.axes._subplots.AxesSubplot at 0x7fc90c6c0990>"
            ]
          },
          "metadata": {},
          "execution_count": 25
        },
        {
          "output_type": "display_data",
          "data": {
            "image/png": "[encoded data removed]",
            "text/plain": [
              "<Figure size 432x288 with 2 Axes>"
            ]
          },
          "metadata": {
            "needs_background": "light"
          }
        }
      ]
    }
  ]
}